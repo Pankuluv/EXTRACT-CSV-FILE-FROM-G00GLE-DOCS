{
 "cells": [
  {
   "cell_type": "markdown",
   "id": "ed81a507",
   "metadata": {},
   "source": [
    "# EXTRACT CSV FILE FROM G00GLE DOCS"
   ]
  },
  {
   "cell_type": "code",
   "execution_count": 1,
   "id": "206c938e",
   "metadata": {},
   "outputs": [
    {
     "name": "stdout",
     "output_type": "stream",
     "text": [
      "1015 de\n",
      "1015 fr\n",
      "000004458X de\n",
      "000004458X fr\n",
      "1002198 de\n",
      "1002198 fr\n",
      "1002791 fr\n",
      "1002791 it\n",
      "1002864 de\n",
      "1002864 fr\n"
     ]
    }
   ],
   "source": [
    "import pandas as pd\n",
    "\n",
    "url = 'https://drive.google.com/file/d/1hPOqRVs5zvKfSMekcQEtml0nMC-O_fXD/view?usp=sharing'\n",
    "path = 'https://drive.google.com/uc?export=download&id='+url.split('/')[-2]\n",
    "\n",
    "a = pd.read_csv(path ,nrows=10)\n",
    "\n",
    "for ind,row in a.iterrows():\n",
    "    print(row['Asin'] ,  row['country'])"
   ]
  },
  {
   "cell_type": "code",
   "execution_count": null,
   "id": "1f1454ac",
   "metadata": {},
   "outputs": [],
   "source": []
  }
 ],
 "metadata": {
  "kernelspec": {
   "display_name": "Python 3",
   "language": "python",
   "name": "python3"
  },
  "language_info": {
   "codemirror_mode": {
    "name": "ipython",
    "version": 3
   },
   "file_extension": ".py",
   "mimetype": "text/x-python",
   "name": "python",
   "nbconvert_exporter": "python",
   "pygments_lexer": "ipython3",
   "version": "3.8.8"
  }
 },
 "nbformat": 4,
 "nbformat_minor": 5
}
